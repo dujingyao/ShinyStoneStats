{
 "cells": [
  {
   "cell_type": "code",
   "execution_count": 9,
   "id": "09f9b836-bd7d-41d0-b146-2b01e820f186",
   "metadata": {},
   "outputs": [],
   "source": [
    "import pandas as pd\n",
    "import matplotlib.pyplot as plt\n",
    "import numpy as np\n",
    "\n",
    "# 设置显示中文\n",
    "plt.rcParams['font.sans-serif'] = ['SimHei']  # 用来正常显示中文标签\n",
    "plt.rcParams['axes.unicode_minus'] = False  # 用来正常显示负号\n",
    "\n",
    "# 导入安居客数据\n",
    "ajkDF = pd.read_csv('anjuke.csv')\n",
    "\n",
    "# 导入贝壳数据\n",
    "shellDF = pd.read_csv('house_data.csv')"
   ]
  },
  {
   "cell_type": "code",
   "execution_count": 10,
   "id": "50189534-80b3-49b9-ac0e-b9b11ff308a2",
   "metadata": {},
   "outputs": [
    {
     "name": "stdout",
     "output_type": "stream",
     "text": [
      "安居客数据预览：\n",
      "                               标题           楼盘             地址      户型     面积  \\\n",
      "0  万科物业自营 南坪六公里金域翰林 三号线精装正三房带家具电器  万科金域学府翰林菁华里   南岸学府大道二塘路59号  3室2厅1卫  89.9㎡   \n",
      "1      黄泥磅 两代一家 正规三房双卫 业主自住房 拎包入住         两代一家  渝北渝北黄泥磅紫荆路29号  3室2厅2卫  94.5㎡   \n",
      "2  鸳鸯16年次新小区 大雅云居山刚需经典3房户型 随时看房诚售        大雅云居山     渝北鸳鸯龙展路59号  3室2厅1卫    88㎡   \n",
      "3           中交中央公园 横厅精装大两房 出门都是公园     中交中央公园悦颂    渝北中央公园翠丹路4号  2室2厅1卫    91㎡   \n",
      "4          富力现代广场 豪装大两房 户型方正 看房方便       富力现代广场  南岸弹子石弹子石新街59号  2室2厅1卫  85.5㎡   \n",
      "\n",
      "         楼层       年代        价格  \n",
      "0  低层(共27层)  2019年建造  16465元/㎡  \n",
      "1  低层(共28层)  2008年建造  14815元/㎡  \n",
      "2  低层(共24层)  2016年建造  16487元/㎡  \n",
      "3  低层(共25层)  2016年建造  20660元/㎡  \n",
      "4  低层(共30层)  2012年建造  16969元/㎡  \n",
      "\n",
      "贝壳数据预览：\n",
      "               address    house  price     total\n",
      "0           新城红河南路888号     汇悦悦城  14800   40(万/套)\n",
      "1                海洋公园旁  联发龙洲湾1号  25000  100(万/套)\n",
      "2              汇龙大道三转盘     汇悦悦峰  18000   40(万/套)\n",
      "3     渝南大道(南温泉民宿度假酒店旁)    碧桂园天麓  15000  237(万/套)\n",
      "4  鸥鹏大道巴川旁（巴南新鸥鹏教育城旁边）    新城金樾府  13000  180(万/套)\n"
     ]
    }
   ],
   "source": [
    "# 显示前几行数据\n",
    "print(\"安居客数据预览：\")\n",
    "print(ajkDF.head())\n",
    "print(\"\\n贝壳数据预览：\")\n",
    "print(shellDF.head())"
   ]
  },
  {
   "cell_type": "code",
   "execution_count": 8,
   "id": "da3566d7-1f31-4c7a-9810-2043ebb36647",
   "metadata": {},
   "outputs": [
    {
     "name": "stdout",
     "output_type": "stream",
     "text": [
      "\n",
      "安居客数据信息：\n",
      "<class 'pandas.core.frame.DataFrame'>\n",
      "RangeIndex: 540 entries, 0 to 539\n",
      "Data columns (total 8 columns):\n",
      " #   Column  Non-Null Count  Dtype \n",
      "---  ------  --------------  ----- \n",
      " 0   标题      540 non-null    object\n",
      " 1   楼盘      540 non-null    object\n",
      " 2   地址      540 non-null    object\n",
      " 3   户型      540 non-null    object\n",
      " 4   面积      540 non-null    object\n",
      " 5   楼层      540 non-null    object\n",
      " 6   年代      540 non-null    object\n",
      " 7   价格      540 non-null    object\n",
      "dtypes: object(8)\n",
      "memory usage: 33.9+ KB\n",
      "None\n",
      "\n",
      "贝壳数据信息：\n",
      "<class 'pandas.core.frame.DataFrame'>\n",
      "RangeIndex: 1214 entries, 0 to 1213\n",
      "Data columns (total 4 columns):\n",
      " #   Column   Non-Null Count  Dtype \n",
      "---  ------   --------------  ----- \n",
      " 0   address  1214 non-null   object\n",
      " 1   house    1214 non-null   object\n",
      " 2   price    1214 non-null   int64 \n",
      " 3   total    1214 non-null   object\n",
      "dtypes: int64(1), object(3)\n",
      "memory usage: 38.1+ KB\n",
      "None\n"
     ]
    }
   ],
   "source": [
    "\n",
    "# 显示数据基本信息\n",
    "print(\"\\n安居客数据信息：\")\n",
    "print(anjuke_data.info())\n",
    "print(\"\\n贝壳数据信息：\")\n",
    "print(beike_data.info())"
   ]
  },
  {
   "cell_type": "code",
   "execution_count": null,
   "id": "da701c5a-2531-4e64-a3fe-5fe00e9adf61",
   "metadata": {},
   "outputs": [],
   "source": []
  }
 ],
 "metadata": {
  "kernelspec": {
   "display_name": "Python 3 (ipykernel)",
   "language": "python",
   "name": "python3"
  },
  "language_info": {
   "codemirror_mode": {
    "name": "ipython",
    "version": 3
   },
   "file_extension": ".py",
   "mimetype": "text/x-python",
   "name": "python",
   "nbconvert_exporter": "python",
   "pygments_lexer": "ipython3",
   "version": "3.9.13"
  }
 },
 "nbformat": 4,
 "nbformat_minor": 5
}
