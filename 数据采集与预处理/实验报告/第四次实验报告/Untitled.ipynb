{
 "cells": [
  {
   "cell_type": "code",
   "execution_count": 10,
   "id": "09f9b836-bd7d-41d0-b146-2b01e820f186",
   "metadata": {},
   "outputs": [],
   "source": [
    "import pandas as pd\n",
    "import matplotlib.pyplot as plt\n",
    "import numpy as np\n",
    "\n",
    "# 设置显示中文\n",
    "plt.rcParams['font.sans-serif'] = ['SimHei']  # 用来正常显示中文标签\n",
    "plt.rcParams['axes.unicode_minus'] = False  # 用来正常显示负号"
   ]
  },
  {
   "cell_type": "code",
   "execution_count": 11,
   "id": "da701c5a-2531-4e64-a3fe-5fe00e9adf61",
   "metadata": {},
   "outputs": [
    {
     "name": "stdout",
     "output_type": "stream",
     "text": [
      "(1214, 4)\n",
      "               address    house  price     total\n",
      "0           新城红河南路888号     汇悦悦城  14800   40(万/套)\n",
      "1                海洋公园旁  联发龙洲湾1号  25000  100(万/套)\n",
      "2              汇龙大道三转盘     汇悦悦峰  18000   40(万/套)\n",
      "3     渝南大道(南温泉民宿度假酒店旁)    碧桂园天麓  15000  237(万/套)\n",
      "4  鸥鹏大道巴川旁（巴南新鸥鹏教育城旁边）    新城金樾府  13000  180(万/套)\n"
     ]
    }
   ],
   "source": [
    "shellDF=pd.read_csv('house_data.csv',encoding='utf8')\n",
    "print(shellDF.shape)\n",
    "print(shellDF.head())"
   ]
  },
  {
   "cell_type": "code",
   "execution_count": 3,
   "id": "3efcf6e7-cce8-478f-9fc6-5f38618d2947",
   "metadata": {},
   "outputs": [
    {
     "name": "stdout",
     "output_type": "stream",
     "text": [
      "(540, 8)\n",
      "                               标题           楼盘             地址      户型     面积  \\\n",
      "0  万科物业自营 南坪六公里金域翰林 三号线精装正三房带家具电器  万科金域学府翰林菁华里   南岸学府大道二塘路59号  3室2厅1卫  89.9㎡   \n",
      "1      黄泥磅 两代一家 正规三房双卫 业主自住房 拎包入住         两代一家  渝北渝北黄泥磅紫荆路29号  3室2厅2卫  94.5㎡   \n",
      "2  鸳鸯16年次新小区 大雅云居山刚需经典3房户型 随时看房诚售        大雅云居山     渝北鸳鸯龙展路59号  3室2厅1卫    88㎡   \n",
      "3           中交中央公园 横厅精装大两房 出门都是公园     中交中央公园悦颂    渝北中央公园翠丹路4号  2室2厅1卫    91㎡   \n",
      "4          富力现代广场 豪装大两房 户型方正 看房方便       富力现代广场  南岸弹子石弹子石新街59号  2室2厅1卫  85.5㎡   \n",
      "\n",
      "         楼层       年代        价格  \n",
      "0  低层(共27层)  2019年建造  16465元/㎡  \n",
      "1  低层(共28层)  2008年建造  14815元/㎡  \n",
      "2  低层(共24层)  2016年建造  16487元/㎡  \n",
      "3  低层(共25层)  2016年建造  20660元/㎡  \n",
      "4  低层(共30层)  2012年建造  16969元/㎡  \n"
     ]
    }
   ],
   "source": [
    "ajkDF=pd.read_csv('anjuke.csv',encoding='utf8')\n",
    "print(ajkDF.shape)\n",
    "print(ajkDF.head())"
   ]
  },
  {
   "cell_type": "code",
   "execution_count": 6,
   "id": "f7cc7ec7-38c8-4bc2-a467-052ca2d5d403",
   "metadata": {},
   "outputs": [
    {
     "name": "stdout",
     "output_type": "stream",
     "text": [
      "address    764\n",
      "house      764\n",
      "price      764\n",
      "total      764\n",
      "dtype: int64\n",
      "                           address   house  price          total\n",
      "446   礼嘉嘉陵江畔（轨道九曲河站前行1公里）, 金海大道77号   融创玫瑰园  35000      1900(万/套)\n",
      "447                  双福园区成渝高速走马出口处  恒大金碧天下   7800     56-93(万/套)\n",
      "448        黄桷垭福寿路2号（重庆邮电大学与老厂道路之间）   复地山与城  11000  270-1100(万/套)\n",
      "449                    重庆市渝北区悦山路5号   首地江山赋  18000       260(万/套)\n",
      "450  西部新 城陶家商圈（白彭路与铜陶路交汇处，陶家百可广场旁）  高开投理想城   7000        60(万/套)\n"
     ]
    }
   ],
   "source": [
    "dupDF=shellDF[shellDF.duplicated()]\n",
    "print(dupDF.count())\n",
    "print(dupDF.head())"
   ]
  },
  {
   "cell_type": "code",
   "execution_count": 16,
   "id": "8c225141-7088-4fe3-a8a1-42ce2b22f5e1",
   "metadata": {},
   "outputs": [
    {
     "name": "stdout",
     "output_type": "stream",
     "text": [
      "           address  house         price     total\n",
      "count          450    450    450.000000       450\n",
      "unique         415    394           NaN       316\n",
      "top     李家沱正街都和广场旁  华美翡丽山           NaN  100(万/套)\n",
      "freq             3      3           NaN        19\n",
      "mean           NaN    NaN  15560.751111       NaN\n",
      "std            NaN    NaN   7140.914615       NaN\n",
      "min            NaN    NaN   4300.000000       NaN\n",
      "25%            NaN    NaN   9800.000000       NaN\n",
      "50%            NaN    NaN  15000.000000       NaN\n",
      "75%            NaN    NaN  20000.000000       NaN\n",
      "max            NaN    NaN  45000.000000       NaN\n"
     ]
    }
   ],
   "source": [
    "df1=shellDF.drop_duplicates() #去重\n",
    "print(df1.describe(include='all')) #对去重后的数字进行描述"
   ]
  },
  {
   "cell_type": "code",
   "execution_count": 23,
   "id": "773a462e-b2bb-42c8-b9aa-42d2b93c7395",
   "metadata": {},
   "outputs": [
    {
     "name": "stdout",
     "output_type": "stream",
     "text": [
      "(0, 4)\n",
      "Empty DataFrame\n",
      "Columns: [address, house, price, total]\n",
      "Index: []\n"
     ]
    }
   ],
   "source": [
    "print(df1[df1.price=='价格待定'].shape)\n",
    "print(df1[df1.price=='价格待定'].head())"
   ]
  },
  {
   "cell_type": "code",
   "execution_count": 24,
   "id": "71680ab6-8da9-43af-b882-5518dd5e830e",
   "metadata": {},
   "outputs": [
    {
     "name": "stdout",
     "output_type": "stream",
     "text": [
      "              price\n",
      "count    450.000000\n",
      "mean   15560.751111\n",
      "std     7140.914615\n",
      "min     4300.000000\n",
      "25%     9800.000000\n",
      "50%    15000.000000\n",
      "75%    20000.000000\n",
      "max    45000.000000\n"
     ]
    }
   ],
   "source": [
    "df1=df1.drop(df1[df1.price=='价格待定'].index)\n",
    "print(df1.describe())"
   ]
  },
  {
   "cell_type": "code",
   "execution_count": 25,
   "id": "d02c244d-a819-4386-b925-60b04f91374a",
   "metadata": {},
   "outputs": [
    {
     "name": "stdout",
     "output_type": "stream",
     "text": [
      "address    0\n",
      "house      0\n",
      "price      0\n",
      "total      0\n",
      "dtype: int64\n",
      "Empty DataFrame\n",
      "Columns: [address, house, price, total]\n",
      "Index: []\n"
     ]
    }
   ],
   "source": [
    "print(df1.isna().sum())\n",
    "print(df1[df1.total.isna()].head())"
   ]
  },
  {
   "cell_type": "code",
   "execution_count": 26,
   "id": "a6ec3d55-f39f-4274-a762-ed97419c6bb2",
   "metadata": {},
   "outputs": [
    {
     "name": "stdout",
     "output_type": "stream",
     "text": [
      "              price\n",
      "count    450.000000\n",
      "mean   15560.751111\n",
      "std     7140.914615\n",
      "min     4300.000000\n",
      "25%     9800.000000\n",
      "50%    15000.000000\n",
      "75%    20000.000000\n",
      "max    45000.000000\n"
     ]
    }
   ],
   "source": [
    "df1=df1.dropna()\n",
    "print(df1.describe())"
   ]
  },
  {
   "cell_type": "code",
   "execution_count": null,
   "id": "e1713131-8eef-41a5-8a96-cb6512e5a40f",
   "metadata": {},
   "outputs": [],
   "source": []
  }
 ],
 "metadata": {
  "kernelspec": {
   "display_name": "Python 3 (ipykernel)",
   "language": "python",
   "name": "python3"
  },
  "language_info": {
   "codemirror_mode": {
    "name": "ipython",
    "version": 3
   },
   "file_extension": ".py",
   "mimetype": "text/x-python",
   "name": "python",
   "nbconvert_exporter": "python",
   "pygments_lexer": "ipython3",
   "version": "3.9.13"
  }
 },
 "nbformat": 4,
 "nbformat_minor": 5
}
